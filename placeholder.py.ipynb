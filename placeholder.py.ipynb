{
 "cells": [
  {
   "cell_type": "code",
   "execution_count": 18,
   "metadata": {
    "collapsed": true
   },
   "outputs": [],
   "source": [
    "from bokeh.io import output_notebook, show\n",
    "from bokeh.plotting import figure\n",
    "import requests\n",
    "import simplejson as json\n",
    "import pandas as pd\n",
    "from datetime import datetime as dt"
   ]
  },
  {
   "cell_type": "markdown",
   "metadata": {},
   "source": [
    "# Formulating the API\n",
    "\n",
    "With a default of \"GOOG\" for the ticker symbol, csv retrieval instead of json, and no specified date range."
   ]
  },
  {
   "cell_type": "code",
   "execution_count": 22,
   "metadata": {},
   "outputs": [],
   "source": [
    "stem = 'https://www.quandl.com/api/v3/datatables/WIKI/PRICES'\n",
    "\n",
    "filetype_csv = '.csv?'\n",
    "\n",
    "t_query = 'ticker='\n",
    "ticker = 'GOOG' #returns Google stock prices by default\n",
    "\n",
    "a_query = 'api_key='\n",
    "api_key = 'uMSAPoLS_hMKaPdsa9y2'\n",
    "\n",
    "csv_query = stem + filetype_csv + t_query + ticker + '&' + a_query + api_key"
   ]
  },
  {
   "cell_type": "code",
   "execution_count": 10,
   "metadata": {},
   "outputs": [
    {
     "name": "stdout",
     "output_type": "stream",
     "text": [
      "           ticker     open    high     low   close    volume  ex-dividend  \\\n",
      "date                                                                        \n",
      "2014-03-27   GOOG  568.000  568.00  552.92  558.46   13100.0          0.0   \n",
      "2014-03-28   GOOG  561.200  566.43  558.67  559.99   41100.0          0.0   \n",
      "2014-03-31   GOOG  566.890  567.00  556.93  556.97   10800.0          0.0   \n",
      "2014-04-01   GOOG  558.710  568.45  558.71  567.16    7900.0          0.0   \n",
      "2014-04-02   GOOG  565.106  604.83  562.19  567.00  146700.0          0.0   \n",
      "\n",
      "            split_ratio  adj_open  adj_high  adj_low  adj_close  adj_volume  \n",
      "date                                                                         \n",
      "2014-03-27          1.0   568.000    568.00   552.92     558.46     13100.0  \n",
      "2014-03-28          1.0   561.200    566.43   558.67     559.99     41100.0  \n",
      "2014-03-31          1.0   566.890    567.00   556.93     556.97     10800.0  \n",
      "2014-04-01          1.0   558.710    568.45   558.71     567.16      7900.0  \n",
      "2014-04-02          1.0   565.106    604.83   562.19     567.00    146700.0  \n"
     ]
    }
   ],
   "source": [
    "df_full_csv = pd.read_csv(small_csv_query, index_col='date', parse_dates=True)\n",
    "\n",
    "print(df_full_csv.head())"
   ]
  },
  {
   "cell_type": "code",
   "execution_count": 14,
   "metadata": {
    "scrolled": true
   },
   "outputs": [
    {
     "name": "stdout",
     "output_type": "stream",
     "text": [
      "DatetimeIndex(['2014-03-27', '2014-03-28', '2014-03-31', '2014-04-01',\n",
      "               '2014-04-02', '2014-04-03', '2014-04-04', '2014-04-07',\n",
      "               '2014-04-08', '2014-04-09',\n",
      "               ...\n",
      "               '2017-12-13', '2017-12-14', '2017-12-15', '2017-12-18',\n",
      "               '2017-12-19', '2017-12-20', '2017-12-21', '2017-12-22',\n",
      "               '2017-12-26', '2017-12-27'],\n",
      "              dtype='datetime64[ns]', name=u'date', length=946, freq=None)\n",
      "(946, 13)\n"
     ]
    }
   ],
   "source": [
    "print(df_full_csv.index)\n",
    "print(df_full_csv.shape)"
   ]
  },
  {
   "cell_type": "markdown",
   "metadata": {},
   "source": [
    "This is the part that will currently hang when trying to run"
   ]
  },
  {
   "cell_type": "code",
   "execution_count": 23,
   "metadata": {},
   "outputs": [
    {
     "data": {
      "text/html": [
       "\n",
       "    <div class=\"bk-root\">\n",
       "        <a href=\"http://bokeh.pydata.org\" target=\"_blank\" class=\"bk-logo bk-logo-small bk-logo-notebook\"></a>\n",
       "        <span id=\"349073bf-a58b-4b7b-ac46-9ebe1f34284c\">Loading BokehJS ...</span>\n",
       "    </div>"
      ]
     },
     "metadata": {},
     "output_type": "display_data"
    },
    {
     "data": {
      "application/javascript": [
       "\n",
       "(function(global) {\n",
       "  function now() {\n",
       "    return new Date();\n",
       "  }\n",
       "\n",
       "  var force = true;\n",
       "\n",
       "  if (typeof (window._bokeh_onload_callbacks) === \"undefined\" || force === true) {\n",
       "    window._bokeh_onload_callbacks = [];\n",
       "    window._bokeh_is_loading = undefined;\n",
       "  }\n",
       "\n",
       "\n",
       "  \n",
       "  if (typeof (window._bokeh_timeout) === \"undefined\" || force === true) {\n",
       "    window._bokeh_timeout = Date.now() + 5000;\n",
       "    window._bokeh_failed_load = false;\n",
       "  }\n",
       "\n",
       "  var NB_LOAD_WARNING = {'data': {'text/html':\n",
       "     \"<div style='background-color: #fdd'>\\n\"+\n",
       "     \"<p>\\n\"+\n",
       "     \"BokehJS does not appear to have successfully loaded. If loading BokehJS from CDN, this \\n\"+\n",
       "     \"may be due to a slow or bad network connection. Possible fixes:\\n\"+\n",
       "     \"</p>\\n\"+\n",
       "     \"<ul>\\n\"+\n",
       "     \"<li>re-rerun `output_notebook()` to attempt to load from CDN again, or</li>\\n\"+\n",
       "     \"<li>use INLINE resources instead, as so:</li>\\n\"+\n",
       "     \"</ul>\\n\"+\n",
       "     \"<code>\\n\"+\n",
       "     \"from bokeh.resources import INLINE\\n\"+\n",
       "     \"output_notebook(resources=INLINE)\\n\"+\n",
       "     \"</code>\\n\"+\n",
       "     \"</div>\"}};\n",
       "\n",
       "  function display_loaded() {\n",
       "    if (window.Bokeh !== undefined) {\n",
       "      document.getElementById(\"349073bf-a58b-4b7b-ac46-9ebe1f34284c\").textContent = \"BokehJS successfully loaded.\";\n",
       "    } else if (Date.now() < window._bokeh_timeout) {\n",
       "      setTimeout(display_loaded, 100)\n",
       "    }\n",
       "  }\n",
       "\n",
       "  function run_callbacks() {\n",
       "    window._bokeh_onload_callbacks.forEach(function(callback) { callback() });\n",
       "    delete window._bokeh_onload_callbacks\n",
       "    console.info(\"Bokeh: all callbacks have finished\");\n",
       "  }\n",
       "\n",
       "  function load_libs(js_urls, callback) {\n",
       "    window._bokeh_onload_callbacks.push(callback);\n",
       "    if (window._bokeh_is_loading > 0) {\n",
       "      console.log(\"Bokeh: BokehJS is being loaded, scheduling callback at\", now());\n",
       "      return null;\n",
       "    }\n",
       "    if (js_urls == null || js_urls.length === 0) {\n",
       "      run_callbacks();\n",
       "      return null;\n",
       "    }\n",
       "    console.log(\"Bokeh: BokehJS not loaded, scheduling load and callback at\", now());\n",
       "    window._bokeh_is_loading = js_urls.length;\n",
       "    for (var i = 0; i < js_urls.length; i++) {\n",
       "      var url = js_urls[i];\n",
       "      var s = document.createElement('script');\n",
       "      s.src = url;\n",
       "      s.async = false;\n",
       "      s.onreadystatechange = s.onload = function() {\n",
       "        window._bokeh_is_loading--;\n",
       "        if (window._bokeh_is_loading === 0) {\n",
       "          console.log(\"Bokeh: all BokehJS libraries loaded\");\n",
       "          run_callbacks()\n",
       "        }\n",
       "      };\n",
       "      s.onerror = function() {\n",
       "        console.warn(\"failed to load library \" + url);\n",
       "      };\n",
       "      console.log(\"Bokeh: injecting script tag for BokehJS library: \", url);\n",
       "      document.getElementsByTagName(\"head\")[0].appendChild(s);\n",
       "    }\n",
       "  };var element = document.getElementById(\"349073bf-a58b-4b7b-ac46-9ebe1f34284c\");\n",
       "  if (element == null) {\n",
       "    console.log(\"Bokeh: ERROR: autoload.js configured with elementid '349073bf-a58b-4b7b-ac46-9ebe1f34284c' but no matching script tag was found. \")\n",
       "    return false;\n",
       "  }\n",
       "\n",
       "  var js_urls = [\"https://cdn.pydata.org/bokeh/release/bokeh-0.12.4.min.js\", \"https://cdn.pydata.org/bokeh/release/bokeh-widgets-0.12.4.min.js\"];\n",
       "\n",
       "  var inline_js = [\n",
       "    function(Bokeh) {\n",
       "      Bokeh.set_log_level(\"info\");\n",
       "    },\n",
       "    \n",
       "    function(Bokeh) {\n",
       "      \n",
       "      document.getElementById(\"349073bf-a58b-4b7b-ac46-9ebe1f34284c\").textContent = \"BokehJS is loading...\";\n",
       "    },\n",
       "    function(Bokeh) {\n",
       "      console.log(\"Bokeh: injecting CSS: https://cdn.pydata.org/bokeh/release/bokeh-0.12.4.min.css\");\n",
       "      Bokeh.embed.inject_css(\"https://cdn.pydata.org/bokeh/release/bokeh-0.12.4.min.css\");\n",
       "      console.log(\"Bokeh: injecting CSS: https://cdn.pydata.org/bokeh/release/bokeh-widgets-0.12.4.min.css\");\n",
       "      Bokeh.embed.inject_css(\"https://cdn.pydata.org/bokeh/release/bokeh-widgets-0.12.4.min.css\");\n",
       "    }\n",
       "  ];\n",
       "\n",
       "  function run_inline_js() {\n",
       "    \n",
       "    if ((window.Bokeh !== undefined) || (force === true)) {\n",
       "      for (var i = 0; i < inline_js.length; i++) {\n",
       "        inline_js[i](window.Bokeh);\n",
       "      }if (force === true) {\n",
       "        display_loaded();\n",
       "      }} else if (Date.now() < window._bokeh_timeout) {\n",
       "      setTimeout(run_inline_js, 100);\n",
       "    } else if (!window._bokeh_failed_load) {\n",
       "      console.log(\"Bokeh: BokehJS failed to load within specified timeout.\");\n",
       "      window._bokeh_failed_load = true;\n",
       "    } else if (force !== true) {\n",
       "      var cell = $(document.getElementById(\"349073bf-a58b-4b7b-ac46-9ebe1f34284c\")).parents('.cell').data().cell;\n",
       "      cell.output_area.append_execute_result(NB_LOAD_WARNING)\n",
       "    }\n",
       "\n",
       "  }\n",
       "\n",
       "  if (window._bokeh_is_loading === 0) {\n",
       "    console.log(\"Bokeh: BokehJS loaded, going straight to plotting\");\n",
       "    run_inline_js();\n",
       "  } else {\n",
       "    load_libs(js_urls, function() {\n",
       "      console.log(\"Bokeh: BokehJS plotting callback run at\", now());\n",
       "      run_inline_js();\n",
       "    });\n",
       "  }\n",
       "}(this));"
      ]
     },
     "metadata": {},
     "output_type": "display_data"
    },
    {
     "data": {
      "text/html": [
       "\n",
       "\n",
       "    <div class=\"bk-root\">\n",
       "        <div class=\"bk-plotdiv\" id=\"86a47c97-634e-412c-b738-b4d1709bd02d\"></div>\n",
       "    </div>\n",
       "<script type=\"text/javascript\">\n",
       "  \n",
       "  (function(global) {\n",
       "    function now() {\n",
       "      return new Date();\n",
       "    }\n",
       "  \n",
       "    var force = false;\n",
       "  \n",
       "    if (typeof (window._bokeh_onload_callbacks) === \"undefined\" || force === true) {\n",
       "      window._bokeh_onload_callbacks = [];\n",
       "      window._bokeh_is_loading = undefined;\n",
       "    }\n",
       "  \n",
       "  \n",
       "    \n",
       "    if (typeof (window._bokeh_timeout) === \"undefined\" || force === true) {\n",
       "      window._bokeh_timeout = Date.now() + 0;\n",
       "      window._bokeh_failed_load = false;\n",
       "    }\n",
       "  \n",
       "    var NB_LOAD_WARNING = {'data': {'text/html':\n",
       "       \"<div style='background-color: #fdd'>\\n\"+\n",
       "       \"<p>\\n\"+\n",
       "       \"BokehJS does not appear to have successfully loaded. If loading BokehJS from CDN, this \\n\"+\n",
       "       \"may be due to a slow or bad network connection. Possible fixes:\\n\"+\n",
       "       \"</p>\\n\"+\n",
       "       \"<ul>\\n\"+\n",
       "       \"<li>re-rerun `output_notebook()` to attempt to load from CDN again, or</li>\\n\"+\n",
       "       \"<li>use INLINE resources instead, as so:</li>\\n\"+\n",
       "       \"</ul>\\n\"+\n",
       "       \"<code>\\n\"+\n",
       "       \"from bokeh.resources import INLINE\\n\"+\n",
       "       \"output_notebook(resources=INLINE)\\n\"+\n",
       "       \"</code>\\n\"+\n",
       "       \"</div>\"}};\n",
       "  \n",
       "    function display_loaded() {\n",
       "      if (window.Bokeh !== undefined) {\n",
       "        document.getElementById(\"86a47c97-634e-412c-b738-b4d1709bd02d\").textContent = \"BokehJS successfully loaded.\";\n",
       "      } else if (Date.now() < window._bokeh_timeout) {\n",
       "        setTimeout(display_loaded, 100)\n",
       "      }\n",
       "    }\n",
       "  \n",
       "    function run_callbacks() {\n",
       "      window._bokeh_onload_callbacks.forEach(function(callback) { callback() });\n",
       "      delete window._bokeh_onload_callbacks\n",
       "      console.info(\"Bokeh: all callbacks have finished\");\n",
       "    }\n",
       "  \n",
       "    function load_libs(js_urls, callback) {\n",
       "      window._bokeh_onload_callbacks.push(callback);\n",
       "      if (window._bokeh_is_loading > 0) {\n",
       "        console.log(\"Bokeh: BokehJS is being loaded, scheduling callback at\", now());\n",
       "        return null;\n",
       "      }\n",
       "      if (js_urls == null || js_urls.length === 0) {\n",
       "        run_callbacks();\n",
       "        return null;\n",
       "      }\n",
       "      console.log(\"Bokeh: BokehJS not loaded, scheduling load and callback at\", now());\n",
       "      window._bokeh_is_loading = js_urls.length;\n",
       "      for (var i = 0; i < js_urls.length; i++) {\n",
       "        var url = js_urls[i];\n",
       "        var s = document.createElement('script');\n",
       "        s.src = url;\n",
       "        s.async = false;\n",
       "        s.onreadystatechange = s.onload = function() {\n",
       "          window._bokeh_is_loading--;\n",
       "          if (window._bokeh_is_loading === 0) {\n",
       "            console.log(\"Bokeh: all BokehJS libraries loaded\");\n",
       "            run_callbacks()\n",
       "          }\n",
       "        };\n",
       "        s.onerror = function() {\n",
       "          console.warn(\"failed to load library \" + url);\n",
       "        };\n",
       "        console.log(\"Bokeh: injecting script tag for BokehJS library: \", url);\n",
       "        document.getElementsByTagName(\"head\")[0].appendChild(s);\n",
       "      }\n",
       "    };var element = document.getElementById(\"86a47c97-634e-412c-b738-b4d1709bd02d\");\n",
       "    if (element == null) {\n",
       "      console.log(\"Bokeh: ERROR: autoload.js configured with elementid '86a47c97-634e-412c-b738-b4d1709bd02d' but no matching script tag was found. \")\n",
       "      return false;\n",
       "    }\n",
       "  \n",
       "    var js_urls = [];\n",
       "  \n",
       "    var inline_js = [\n",
       "      function(Bokeh) {\n",
       "        (function() {\n",
       "          var fn = function() {\n",
       "            var docs_json = {\"60dc1643-0c2e-4836-b3fd-b46f084ac7ab\":{\"roots\":{\"references\":[{\"attributes\":{\"data_source\":{\"id\":\"c594876c-6262-4d9b-8401-fb30d37b0aa1\",\"type\":\"ColumnDataSource\"},\"glyph\":{\"id\":\"113d600e-256a-4870-8002-b3a34079708e\",\"type\":\"Line\"},\"hover_glyph\":null,\"nonselection_glyph\":{\"id\":\"50d7708b-38b4-4703-8e89-2077bdbc10c7\",\"type\":\"Line\"},\"selection_glyph\":null},\"id\":\"bb782050-b329-4148-9791-4a868e917a8a\",\"type\":\"GlyphRenderer\"},{\"attributes\":{\"plot\":{\"id\":\"6aa2d025-94fa-4eb7-94a7-0c0ac8c5bfa5\",\"subtype\":\"Figure\",\"type\":\"Plot\"}},\"id\":\"98581315-db5e-4c02-a2b4-28a972bf2d01\",\"type\":\"SaveTool\"},{\"attributes\":{\"plot\":null,\"text\":\"\"},\"id\":\"b5d7385a-ac10-456b-99db-b134cd4bc1a3\",\"type\":\"Title\"},{\"attributes\":{\"plot\":{\"id\":\"6aa2d025-94fa-4eb7-94a7-0c0ac8c5bfa5\",\"subtype\":\"Figure\",\"type\":\"Plot\"}},\"id\":\"3155982d-b0a5-4967-8ca1-d7ad77106120\",\"type\":\"HelpTool\"},{\"attributes\":{},\"id\":\"d2def9f5-247f-4ac9-a522-73d685ba1bd2\",\"type\":\"BasicTicker\"},{\"attributes\":{},\"id\":\"6f1ebb34-eadf-45bc-9866-ca9854b2c288\",\"type\":\"BasicTicker\"},{\"attributes\":{\"callback\":null},\"id\":\"776d364c-6191-4f2e-973a-67289054873b\",\"type\":\"DataRange1d\"},{\"attributes\":{\"plot\":{\"id\":\"6aa2d025-94fa-4eb7-94a7-0c0ac8c5bfa5\",\"subtype\":\"Figure\",\"type\":\"Plot\"},\"ticker\":{\"id\":\"d2def9f5-247f-4ac9-a522-73d685ba1bd2\",\"type\":\"BasicTicker\"}},\"id\":\"408a6aea-f7d2-4634-825e-c782b0eb2444\",\"type\":\"Grid\"},{\"attributes\":{\"overlay\":{\"id\":\"a7c1d713-4427-44da-a38a-63bcf9870ac7\",\"type\":\"BoxAnnotation\"},\"plot\":{\"id\":\"6aa2d025-94fa-4eb7-94a7-0c0ac8c5bfa5\",\"subtype\":\"Figure\",\"type\":\"Plot\"}},\"id\":\"9a47697c-0b21-466f-a295-5dd659069a90\",\"type\":\"BoxZoomTool\"},{\"attributes\":{\"line_color\":{\"value\":\"#1f77b4\"},\"line_width\":{\"value\":2},\"x\":{\"field\":\"x\"},\"y\":{\"field\":\"y\"}},\"id\":\"113d600e-256a-4870-8002-b3a34079708e\",\"type\":\"Line\"},{\"attributes\":{},\"id\":\"b66de29e-a28f-419f-89a5-8c037e20b17b\",\"type\":\"ToolEvents\"},{\"attributes\":{\"callback\":null,\"column_names\":[\"y\",\"x\"],\"data\":{\"x\":{\"__ndarray__\":\"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\",\"dtype\":\"float64\",\"shape\":[946]},\"y\":{\"__ndarray__\":\"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\",\"dtype\":\"float64\",\"shape\":[946]}}},\"id\":\"c594876c-6262-4d9b-8401-fb30d37b0aa1\",\"type\":\"ColumnDataSource\"},{\"attributes\":{\"plot\":{\"id\":\"6aa2d025-94fa-4eb7-94a7-0c0ac8c5bfa5\",\"subtype\":\"Figure\",\"type\":\"Plot\"}},\"id\":\"4b1ec423-2c12-4238-896f-18e996000e79\",\"type\":\"ResetTool\"},{\"attributes\":{\"dimension\":1,\"plot\":{\"id\":\"6aa2d025-94fa-4eb7-94a7-0c0ac8c5bfa5\",\"subtype\":\"Figure\",\"type\":\"Plot\"},\"ticker\":{\"id\":\"6f1ebb34-eadf-45bc-9866-ca9854b2c288\",\"type\":\"BasicTicker\"}},\"id\":\"49cde4d8-46ee-405d-9db4-92d474f569d4\",\"type\":\"Grid\"},{\"attributes\":{\"below\":[{\"id\":\"dcc6e54d-8165-4520-bb94-02fa6c1e7bb9\",\"type\":\"LinearAxis\"}],\"left\":[{\"id\":\"1f18974b-d52f-422c-a5b3-f9098ce43a5d\",\"type\":\"LinearAxis\"}],\"plot_height\":400,\"plot_width\":400,\"renderers\":[{\"id\":\"dcc6e54d-8165-4520-bb94-02fa6c1e7bb9\",\"type\":\"LinearAxis\"},{\"id\":\"408a6aea-f7d2-4634-825e-c782b0eb2444\",\"type\":\"Grid\"},{\"id\":\"1f18974b-d52f-422c-a5b3-f9098ce43a5d\",\"type\":\"LinearAxis\"},{\"id\":\"49cde4d8-46ee-405d-9db4-92d474f569d4\",\"type\":\"Grid\"},{\"id\":\"a7c1d713-4427-44da-a38a-63bcf9870ac7\",\"type\":\"BoxAnnotation\"},{\"id\":\"bb782050-b329-4148-9791-4a868e917a8a\",\"type\":\"GlyphRenderer\"}],\"title\":{\"id\":\"b5d7385a-ac10-456b-99db-b134cd4bc1a3\",\"type\":\"Title\"},\"tool_events\":{\"id\":\"b66de29e-a28f-419f-89a5-8c037e20b17b\",\"type\":\"ToolEvents\"},\"toolbar\":{\"id\":\"314cf54b-9e29-4877-9690-b3020f4a7ff1\",\"type\":\"Toolbar\"},\"x_range\":{\"id\":\"cb310d5b-eeda-4823-af06-5bb0fb5a910c\",\"type\":\"DataRange1d\"},\"y_range\":{\"id\":\"776d364c-6191-4f2e-973a-67289054873b\",\"type\":\"DataRange1d\"}},\"id\":\"6aa2d025-94fa-4eb7-94a7-0c0ac8c5bfa5\",\"subtype\":\"Figure\",\"type\":\"Plot\"},{\"attributes\":{\"plot\":{\"id\":\"6aa2d025-94fa-4eb7-94a7-0c0ac8c5bfa5\",\"subtype\":\"Figure\",\"type\":\"Plot\"}},\"id\":\"c384c0ca-bd99-4015-900e-88246cfca16a\",\"type\":\"WheelZoomTool\"},{\"attributes\":{\"plot\":{\"id\":\"6aa2d025-94fa-4eb7-94a7-0c0ac8c5bfa5\",\"subtype\":\"Figure\",\"type\":\"Plot\"}},\"id\":\"9e60e7ab-8d25-456d-bbfe-4ff59253cb84\",\"type\":\"PanTool\"},{\"attributes\":{},\"id\":\"c4aa806a-4f64-4d49-9f83-f41901846222\",\"type\":\"BasicTickFormatter\"},{\"attributes\":{\"bottom_units\":\"screen\",\"fill_alpha\":{\"value\":0.5},\"fill_color\":{\"value\":\"lightgrey\"},\"left_units\":\"screen\",\"level\":\"overlay\",\"line_alpha\":{\"value\":1.0},\"line_color\":{\"value\":\"black\"},\"line_dash\":[4,4],\"line_width\":{\"value\":2},\"plot\":null,\"render_mode\":\"css\",\"right_units\":\"screen\",\"top_units\":\"screen\"},\"id\":\"a7c1d713-4427-44da-a38a-63bcf9870ac7\",\"type\":\"BoxAnnotation\"},{\"attributes\":{\"formatter\":{\"id\":\"c4aa806a-4f64-4d49-9f83-f41901846222\",\"type\":\"BasicTickFormatter\"},\"plot\":{\"id\":\"6aa2d025-94fa-4eb7-94a7-0c0ac8c5bfa5\",\"subtype\":\"Figure\",\"type\":\"Plot\"},\"ticker\":{\"id\":\"6f1ebb34-eadf-45bc-9866-ca9854b2c288\",\"type\":\"BasicTicker\"}},\"id\":\"1f18974b-d52f-422c-a5b3-f9098ce43a5d\",\"type\":\"LinearAxis\"},{\"attributes\":{},\"id\":\"fa5af570-a859-4f8f-9829-82f7ee19c021\",\"type\":\"BasicTickFormatter\"},{\"attributes\":{\"formatter\":{\"id\":\"fa5af570-a859-4f8f-9829-82f7ee19c021\",\"type\":\"BasicTickFormatter\"},\"plot\":{\"id\":\"6aa2d025-94fa-4eb7-94a7-0c0ac8c5bfa5\",\"subtype\":\"Figure\",\"type\":\"Plot\"},\"ticker\":{\"id\":\"d2def9f5-247f-4ac9-a522-73d685ba1bd2\",\"type\":\"BasicTicker\"}},\"id\":\"dcc6e54d-8165-4520-bb94-02fa6c1e7bb9\",\"type\":\"LinearAxis\"},{\"attributes\":{\"active_drag\":\"auto\",\"active_scroll\":\"auto\",\"active_tap\":\"auto\",\"tools\":[{\"id\":\"9e60e7ab-8d25-456d-bbfe-4ff59253cb84\",\"type\":\"PanTool\"},{\"id\":\"c384c0ca-bd99-4015-900e-88246cfca16a\",\"type\":\"WheelZoomTool\"},{\"id\":\"9a47697c-0b21-466f-a295-5dd659069a90\",\"type\":\"BoxZoomTool\"},{\"id\":\"98581315-db5e-4c02-a2b4-28a972bf2d01\",\"type\":\"SaveTool\"},{\"id\":\"4b1ec423-2c12-4238-896f-18e996000e79\",\"type\":\"ResetTool\"},{\"id\":\"3155982d-b0a5-4967-8ca1-d7ad77106120\",\"type\":\"HelpTool\"}]},\"id\":\"314cf54b-9e29-4877-9690-b3020f4a7ff1\",\"type\":\"Toolbar\"},{\"attributes\":{\"callback\":null},\"id\":\"cb310d5b-eeda-4823-af06-5bb0fb5a910c\",\"type\":\"DataRange1d\"},{\"attributes\":{\"line_alpha\":{\"value\":0.1},\"line_color\":{\"value\":\"#1f77b4\"},\"line_width\":{\"value\":2},\"x\":{\"field\":\"x\"},\"y\":{\"field\":\"y\"}},\"id\":\"50d7708b-38b4-4703-8e89-2077bdbc10c7\",\"type\":\"Line\"}],\"root_ids\":[\"6aa2d025-94fa-4eb7-94a7-0c0ac8c5bfa5\"]},\"title\":\"Bokeh Application\",\"version\":\"0.12.4\"}};\n",
       "            var render_items = [{\"docid\":\"60dc1643-0c2e-4836-b3fd-b46f084ac7ab\",\"elementid\":\"86a47c97-634e-412c-b738-b4d1709bd02d\",\"modelid\":\"6aa2d025-94fa-4eb7-94a7-0c0ac8c5bfa5\"}];\n",
       "            \n",
       "            Bokeh.embed.embed_items(docs_json, render_items);\n",
       "          };\n",
       "          if (document.readyState != \"loading\") fn();\n",
       "          else document.addEventListener(\"DOMContentLoaded\", fn);\n",
       "        })();\n",
       "      },\n",
       "      function(Bokeh) {\n",
       "      }\n",
       "    ];\n",
       "  \n",
       "    function run_inline_js() {\n",
       "      \n",
       "      if ((window.Bokeh !== undefined) || (force === true)) {\n",
       "        for (var i = 0; i < inline_js.length; i++) {\n",
       "          inline_js[i](window.Bokeh);\n",
       "        }if (force === true) {\n",
       "          display_loaded();\n",
       "        }} else if (Date.now() < window._bokeh_timeout) {\n",
       "        setTimeout(run_inline_js, 100);\n",
       "      } else if (!window._bokeh_failed_load) {\n",
       "        console.log(\"Bokeh: BokehJS failed to load within specified timeout.\");\n",
       "        window._bokeh_failed_load = true;\n",
       "      } else if (force !== true) {\n",
       "        var cell = $(document.getElementById(\"86a47c97-634e-412c-b738-b4d1709bd02d\")).parents('.cell').data().cell;\n",
       "        cell.output_area.append_execute_result(NB_LOAD_WARNING)\n",
       "      }\n",
       "  \n",
       "    }\n",
       "  \n",
       "    if (window._bokeh_is_loading === 0) {\n",
       "      console.log(\"Bokeh: BokehJS loaded, going straight to plotting\");\n",
       "      run_inline_js();\n",
       "    } else {\n",
       "      load_libs(js_urls, function() {\n",
       "        console.log(\"Bokeh: BokehJS plotting callback run at\", now());\n",
       "        run_inline_js();\n",
       "      });\n",
       "    }\n",
       "  }(this));\n",
       "</script>"
      ]
     },
     "metadata": {},
     "output_type": "display_data"
    }
   ],
   "source": [
    "#bokeh.Line(df_full_csv, x='date', y='open')\n",
    "\n",
    "output_notebook()\n",
    "\n",
    "p = figure(plot_width=400, plot_height=400)\n",
    "\n",
    "# add a line renderer\n",
    "p.line(df_full_csv.index, df_full_csv['open'], line_width=2)\n",
    "\n",
    "show(p)"
   ]
  },
  {
   "cell_type": "code",
   "execution_count": 21,
   "metadata": {},
   "outputs": [
    {
     "name": "stdout",
     "output_type": "stream",
     "text": [
      "           ticker    open      high       low   close     volume  ex-dividend  \\\n",
      "date                                                                            \n",
      "2017-01-03   GOOG  778.81  789.6300  775.8000  786.14  1657268.0          0.0   \n",
      "2017-01-04   GOOG  788.36  791.3400  783.1600  786.90  1072958.0          0.0   \n",
      "2017-01-05   GOOG  786.08  794.4800  785.0200  794.02  1335167.0          0.0   \n",
      "2017-01-06   GOOG  795.26  807.9000  792.2041  806.15  1640170.0          0.0   \n",
      "2017-01-09   GOOG  806.40  809.9664  802.8300  806.65  1274645.0          0.0   \n",
      "\n",
      "            split_ratio  adj_open  adj_high   adj_low  adj_close  adj_volume  \n",
      "date                                                                          \n",
      "2017-01-03          1.0    778.81  789.6300  775.8000     786.14   1657268.0  \n",
      "2017-01-04          1.0    788.36  791.3400  783.1600     786.90   1072958.0  \n",
      "2017-01-05          1.0    786.08  794.4800  785.0200     794.02   1335167.0  \n",
      "2017-01-06          1.0    795.26  807.9000  792.2041     806.15   1640170.0  \n",
      "2017-01-09          1.0    806.40  809.9664  802.8300     806.65   1274645.0  \n",
      "           ticker     open     high      low    close     volume  ex-dividend  \\\n",
      "date                                                                            \n",
      "2017-12-20   GOOG  1071.78  1073.38  1061.52  1064.95  1266115.0          0.0   \n",
      "2017-12-21   GOOG  1064.95  1069.33  1061.79  1063.63   974594.0          0.0   \n",
      "2017-12-22   GOOG  1061.11  1064.20  1059.44  1060.12   734566.0          0.0   \n",
      "2017-12-26   GOOG  1058.07  1060.12  1050.20  1056.74   756324.0          0.0   \n",
      "2017-12-27   GOOG  1057.39  1058.37  1048.05  1049.37  1214775.0          0.0   \n",
      "\n",
      "            split_ratio  adj_open  adj_high  adj_low  adj_close  adj_volume  \n",
      "date                                                                         \n",
      "2017-12-20          1.0   1071.78   1073.38  1061.52    1064.95   1266115.0  \n",
      "2017-12-21          1.0   1064.95   1069.33  1061.79    1063.63    974594.0  \n",
      "2017-12-22          1.0   1061.11   1064.20  1059.44    1060.12    734566.0  \n",
      "2017-12-26          1.0   1058.07   1060.12  1050.20    1056.74    756324.0  \n",
      "2017-12-27          1.0   1057.39   1058.37  1048.05    1049.37   1214775.0  \n"
     ]
    }
   ],
   "source": [
    "recent = df_full_csv[df_full_csv.index.year >= 2017]\n",
    "print(recent.head())\n",
    "print(recent.tail())"
   ]
  },
  {
   "cell_type": "markdown",
   "metadata": {},
   "source": [
    "# Graveyard"
   ]
  },
  {
   "cell_type": "code",
   "execution_count": null,
   "metadata": {
    "collapsed": true
   },
   "outputs": [],
   "source": [
    "stem = 'https://www.quandl.com/api/v3/datatables/WIKI/PRICES'\n",
    "\n",
    "filetype_json = '.json?'\n",
    "filetype_csv = '.csv?'\n",
    "\n",
    "t_query = 'ticker='\n",
    "ticker = 'GOOG' #returns Google stock prices by default\n",
    "\n",
    "d_query = 'date='\n",
    "start_date = '2017-01-01'\n",
    "end_date = '2017-12-01'\n",
    "\n",
    "a_query = 'api_key='\n",
    "api_key = 'uMSAPoLS_hMKaPdsa9y2'\n",
    "\n",
    "full_query = stem + filetype_json + t_query + ticker + '&'+ d_query + start_date + '%2C' + end_date + '&' + a_query + api_key\n",
    "csv_query = stem + filetype_csv + t_query + ticker + '&'+ d_query + start_date + '%2C' + end_date + '&' + a_query + api_key\n",
    "\n",
    "small_csv_query = stem + filetype_csv + t_query + ticker + '&' + a_query + api_key\n",
    "\n",
    "print(full_query)\n",
    "source_query = 'https://www.quandl.com/api/v3/datatables/WIKI/PRICES?ticker=A&date=1999-11-18%2C1999-11-19%2C1999-11-22&api_key=uMSAPoLS_hMKaPdsa9y2'\n",
    "\n",
    "print(full_query == source_query)\n",
    "\n",
    "df = pd.read_json(full_query, orient='index')\n",
    "\n",
    "print(df.head())\n",
    "print(df.shape)"
   ]
  },
  {
   "cell_type": "markdown",
   "metadata": {},
   "source": [
    "# JSON issues"
   ]
  },
  {
   "cell_type": "code",
   "execution_count": null,
   "metadata": {
    "collapsed": true
   },
   "outputs": [],
   "source": []
  },
  {
   "cell_type": "code",
   "execution_count": 5,
   "metadata": {
    "scrolled": false
   },
   "outputs": [
    {
     "name": "stdout",
     "output_type": "stream",
     "text": [
      "{\"datatable\":{\"data\":[[\"GOOG\",\"2017-12-01\",1015.8,1022.49,1002.02,1010.17,1895786.0,0.0,1.0,1015.8,1022.49,1002.02,1010.17,1895786.0]],\"columns\":[{\"name\":\"ticker\",\"type\":\"String\"},{\"name\":\"date\",\"type\":\"Date\"},{\"name\":\"open\",\"type\":\"BigDecimal(34,12)\"},{\"name\":\"high\",\"type\":\"BigDecimal(34,12)\"},{\"name\":\"low\",\"type\":\"BigDecimal(34,12)\"},{\"name\":\"close\",\"type\":\"BigDecimal(34,12)\"},{\"name\":\"volume\",\"type\":\"BigDecimal(37,15)\"},{\"name\":\"ex-dividend\",\"type\":\"BigDecimal(42,20)\"},{\"name\":\"split_ratio\",\"type\":\"double\"},{\"name\":\"adj_open\",\"type\":\"BigDecimal(50,28)\"},{\"name\":\"adj_high\",\"type\":\"BigDecimal(50,28)\"},{\"name\":\"adj_low\",\"type\":\"BigDecimal(50,28)\"},{\"name\":\"adj_close\",\"type\":\"BigDecimal(50,28)\"},{\"name\":\"adj_volume\",\"type\":\"double\"}]},\"meta\":{\"next_cursor_id\":null}}\n"
     ]
    }
   ],
   "source": [
    "r = requests.get(full_query)\n",
    "\n",
    "print(r.text)"
   ]
  },
  {
   "cell_type": "code",
   "execution_count": 6,
   "metadata": {},
   "outputs": [
    {
     "name": "stdout",
     "output_type": "stream",
     "text": [
      "{u'meta': {u'next_cursor_id': None}, u'datatable': {u'data': [[u'GOOG', u'2017-12-01', 1015.8, 1022.49, 1002.02, 1010.17, 1895786.0, 0.0, 1.0, 1015.8, 1022.49, 1002.02, 1010.17, 1895786.0]], u'columns': [{u'type': u'String', u'name': u'ticker'}, {u'type': u'Date', u'name': u'date'}, {u'type': u'BigDecimal(34,12)', u'name': u'open'}, {u'type': u'BigDecimal(34,12)', u'name': u'high'}, {u'type': u'BigDecimal(34,12)', u'name': u'low'}, {u'type': u'BigDecimal(34,12)', u'name': u'close'}, {u'type': u'BigDecimal(37,15)', u'name': u'volume'}, {u'type': u'BigDecimal(42,20)', u'name': u'ex-dividend'}, {u'type': u'double', u'name': u'split_ratio'}, {u'type': u'BigDecimal(50,28)', u'name': u'adj_open'}, {u'type': u'BigDecimal(50,28)', u'name': u'adj_high'}, {u'type': u'BigDecimal(50,28)', u'name': u'adj_low'}, {u'type': u'BigDecimal(50,28)', u'name': u'adj_close'}, {u'type': u'double', u'name': u'adj_volume'}]}}\n"
     ]
    }
   ],
   "source": [
    "json_data = r.json()\n",
    "\n",
    "print(json_data)"
   ]
  },
  {
   "cell_type": "code",
   "execution_count": 7,
   "metadata": {
    "scrolled": true
   },
   "outputs": [
    {
     "name": "stdout",
     "output_type": "stream",
     "text": [
      "(u'meta: ', {u'next_cursor_id': None})\n",
      "(u'datatable: ', {u'data': [[u'GOOG', u'2017-12-01', 1015.8, 1022.49, 1002.02, 1010.17, 1895786.0, 0.0, 1.0, 1015.8, 1022.49, 1002.02, 1010.17, 1895786.0]], u'columns': [{u'type': u'String', u'name': u'ticker'}, {u'type': u'Date', u'name': u'date'}, {u'type': u'BigDecimal(34,12)', u'name': u'open'}, {u'type': u'BigDecimal(34,12)', u'name': u'high'}, {u'type': u'BigDecimal(34,12)', u'name': u'low'}, {u'type': u'BigDecimal(34,12)', u'name': u'close'}, {u'type': u'BigDecimal(37,15)', u'name': u'volume'}, {u'type': u'BigDecimal(42,20)', u'name': u'ex-dividend'}, {u'type': u'double', u'name': u'split_ratio'}, {u'type': u'BigDecimal(50,28)', u'name': u'adj_open'}, {u'type': u'BigDecimal(50,28)', u'name': u'adj_high'}, {u'type': u'BigDecimal(50,28)', u'name': u'adj_low'}, {u'type': u'BigDecimal(50,28)', u'name': u'adj_close'}, {u'type': u'double', u'name': u'adj_volume'}]})\n"
     ]
    }
   ],
   "source": [
    "for k in json_data.keys():\n",
    "    print(k + ': ', json_data[k])"
   ]
  },
  {
   "cell_type": "code",
   "execution_count": 8,
   "metadata": {},
   "outputs": [
    {
     "name": "stdout",
     "output_type": "stream",
     "text": [
      "Index([u'columns', u'data', u'next_cursor_id'], dtype='object')\n"
     ]
    }
   ],
   "source": [
    "print(df.columns)"
   ]
  },
  {
   "cell_type": "code",
   "execution_count": 9,
   "metadata": {},
   "outputs": [
    {
     "name": "stdout",
     "output_type": "stream",
     "text": [
      "                     open     high      low    close     volume  ex-dividend  \\\n",
      "ticker date                                                                    \n",
      "GOOG   2017-12-01  1015.8  1022.49  1002.02  1010.17  1895786.0          0.0   \n",
      "\n",
      "                   split_ratio  adj_open  adj_high  adj_low  adj_close  \\\n",
      "ticker date                                                              \n",
      "GOOG   2017-12-01          1.0    1015.8   1022.49  1002.02    1010.17   \n",
      "\n",
      "                   adj_volume  \n",
      "ticker date                    \n",
      "GOOG   2017-12-01   1895786.0  \n"
     ]
    }
   ],
   "source": [
    "df_csv = pd.read_csv(csv_query, index_col=['ticker', 'date'])\n",
    "\n",
    "print(df_csv.head())"
   ]
  }
 ],
 "metadata": {
  "kernelspec": {
   "display_name": "Python 2",
   "language": "python",
   "name": "python2"
  },
  "language_info": {
   "codemirror_mode": {
    "name": "ipython",
    "version": 2
   },
   "file_extension": ".py",
   "mimetype": "text/x-python",
   "name": "python",
   "nbconvert_exporter": "python",
   "pygments_lexer": "ipython2",
   "version": "2.7.13"
  }
 },
 "nbformat": 4,
 "nbformat_minor": 2
}
