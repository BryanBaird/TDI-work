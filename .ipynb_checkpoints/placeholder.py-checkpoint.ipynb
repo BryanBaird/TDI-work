{
 "cells": [
  {
   "cell_type": "code",
   "execution_count": 18,
   "metadata": {
    "collapsed": true
   },
   "outputs": [],
   "source": [
    "from bokeh.io import output_notebook, show\n",
    "from bokeh.plotting import figure\n",
    "import requests\n",
    "import simplejson as json\n",
    "import pandas as pd\n",
    "from datetime import datetime as dt"
   ]
  },
  {
   "cell_type": "markdown",
   "metadata": {},
   "source": [
    "# Formulating the API\n",
    "\n",
    "With a default of \"GOOG\" for the ticker symbol, csv retrieval instead of json, and no specified date range."
   ]
  },
  {
   "cell_type": "code",
   "execution_count": 22,
   "metadata": {},
   "outputs": [],
   "source": [
    "stem = 'https://www.quandl.com/api/v3/datatables/WIKI/PRICES'\n",
    "\n",
    "filetype_csv = '.csv?'\n",
    "\n",
    "t_query = 'ticker='\n",
    "ticker = 'GOOG' #returns Google stock prices by default\n",
    "\n",
    "a_query = 'api_key='\n",
    "api_key = 'uMSAPoLS_hMKaPdsa9y2'\n",
    "\n",
    "csv_query = stem + filetype_csv + t_query + ticker + '&' + a_query + api_key"
   ]
  },
  {
   "cell_type": "code",
   "execution_count": 10,
   "metadata": {},
   "outputs": [
    {
     "name": "stdout",
     "output_type": "stream",
     "text": [
      "           ticker     open    high     low   close    volume  ex-dividend  \\\n",
      "date                                                                        \n",
      "2014-03-27   GOOG  568.000  568.00  552.92  558.46   13100.0          0.0   \n",
      "2014-03-28   GOOG  561.200  566.43  558.67  559.99   41100.0          0.0   \n",
      "2014-03-31   GOOG  566.890  567.00  556.93  556.97   10800.0          0.0   \n",
      "2014-04-01   GOOG  558.710  568.45  558.71  567.16    7900.0          0.0   \n",
      "2014-04-02   GOOG  565.106  604.83  562.19  567.00  146700.0          0.0   \n",
      "\n",
      "            split_ratio  adj_open  adj_high  adj_low  adj_close  adj_volume  \n",
      "date                                                                         \n",
      "2014-03-27          1.0   568.000    568.00   552.92     558.46     13100.0  \n",
      "2014-03-28          1.0   561.200    566.43   558.67     559.99     41100.0  \n",
      "2014-03-31          1.0   566.890    567.00   556.93     556.97     10800.0  \n",
      "2014-04-01          1.0   558.710    568.45   558.71     567.16      7900.0  \n",
      "2014-04-02          1.0   565.106    604.83   562.19     567.00    146700.0  \n"
     ]
    }
   ],
   "source": [
    "df_full_csv = pd.read_csv(small_csv_query, index_col='date', parse_dates=True)\n",
    "\n",
    "print(df_full_csv.head())"
   ]
  },
  {
   "cell_type": "code",
   "execution_count": 14,
   "metadata": {
    "scrolled": true
   },
   "outputs": [
    {
     "name": "stdout",
     "output_type": "stream",
     "text": [
      "DatetimeIndex(['2014-03-27', '2014-03-28', '2014-03-31', '2014-04-01',\n",
      "               '2014-04-02', '2014-04-03', '2014-04-04', '2014-04-07',\n",
      "               '2014-04-08', '2014-04-09',\n",
      "               ...\n",
      "               '2017-12-13', '2017-12-14', '2017-12-15', '2017-12-18',\n",
      "               '2017-12-19', '2017-12-20', '2017-12-21', '2017-12-22',\n",
      "               '2017-12-26', '2017-12-27'],\n",
      "              dtype='datetime64[ns]', name=u'date', length=946, freq=None)\n",
      "(946, 13)\n"
     ]
    }
   ],
   "source": [
    "print(df_full_csv.index)\n",
    "print(df_full_csv.shape)"
   ]
  },
  {
   "cell_type": "markdown",
   "metadata": {},
   "source": [
    "This is the part that will currently hang when trying to run"
   ]
  },
  {
   "cell_type": "code",
   "execution_count": null,
   "metadata": {
    "collapsed": true
   },
   "outputs": [],
   "source": [
    "#bokeh.Line(df_full_csv, x='date', y='open')\n",
    "\n",
    "p = figure(plot_width=400, plot_height=400)\n",
    "\n",
    "# add a line renderer\n",
    "p.line(df_full_csv.index, df_full_csv['open'], line_width=2)\n",
    "\n",
    "output_notebook()\n",
    "\n",
    "show(p)"
   ]
  },
  {
   "cell_type": "code",
   "execution_count": 21,
   "metadata": {},
   "outputs": [
    {
     "name": "stdout",
     "output_type": "stream",
     "text": [
      "           ticker    open      high       low   close     volume  ex-dividend  \\\n",
      "date                                                                            \n",
      "2017-01-03   GOOG  778.81  789.6300  775.8000  786.14  1657268.0          0.0   \n",
      "2017-01-04   GOOG  788.36  791.3400  783.1600  786.90  1072958.0          0.0   \n",
      "2017-01-05   GOOG  786.08  794.4800  785.0200  794.02  1335167.0          0.0   \n",
      "2017-01-06   GOOG  795.26  807.9000  792.2041  806.15  1640170.0          0.0   \n",
      "2017-01-09   GOOG  806.40  809.9664  802.8300  806.65  1274645.0          0.0   \n",
      "\n",
      "            split_ratio  adj_open  adj_high   adj_low  adj_close  adj_volume  \n",
      "date                                                                          \n",
      "2017-01-03          1.0    778.81  789.6300  775.8000     786.14   1657268.0  \n",
      "2017-01-04          1.0    788.36  791.3400  783.1600     786.90   1072958.0  \n",
      "2017-01-05          1.0    786.08  794.4800  785.0200     794.02   1335167.0  \n",
      "2017-01-06          1.0    795.26  807.9000  792.2041     806.15   1640170.0  \n",
      "2017-01-09          1.0    806.40  809.9664  802.8300     806.65   1274645.0  \n",
      "           ticker     open     high      low    close     volume  ex-dividend  \\\n",
      "date                                                                            \n",
      "2017-12-20   GOOG  1071.78  1073.38  1061.52  1064.95  1266115.0          0.0   \n",
      "2017-12-21   GOOG  1064.95  1069.33  1061.79  1063.63   974594.0          0.0   \n",
      "2017-12-22   GOOG  1061.11  1064.20  1059.44  1060.12   734566.0          0.0   \n",
      "2017-12-26   GOOG  1058.07  1060.12  1050.20  1056.74   756324.0          0.0   \n",
      "2017-12-27   GOOG  1057.39  1058.37  1048.05  1049.37  1214775.0          0.0   \n",
      "\n",
      "            split_ratio  adj_open  adj_high  adj_low  adj_close  adj_volume  \n",
      "date                                                                         \n",
      "2017-12-20          1.0   1071.78   1073.38  1061.52    1064.95   1266115.0  \n",
      "2017-12-21          1.0   1064.95   1069.33  1061.79    1063.63    974594.0  \n",
      "2017-12-22          1.0   1061.11   1064.20  1059.44    1060.12    734566.0  \n",
      "2017-12-26          1.0   1058.07   1060.12  1050.20    1056.74    756324.0  \n",
      "2017-12-27          1.0   1057.39   1058.37  1048.05    1049.37   1214775.0  \n"
     ]
    }
   ],
   "source": [
    "recent = df_full_csv[df_full_csv.index.year >= 2017]\n",
    "print(recent.head())\n",
    "print(recent.tail())"
   ]
  },
  {
   "cell_type": "markdown",
   "metadata": {},
   "source": [
    "# Graveyard"
   ]
  },
  {
   "cell_type": "code",
   "execution_count": null,
   "metadata": {
    "collapsed": true
   },
   "outputs": [],
   "source": [
    "stem = 'https://www.quandl.com/api/v3/datatables/WIKI/PRICES'\n",
    "\n",
    "filetype_json = '.json?'\n",
    "filetype_csv = '.csv?'\n",
    "\n",
    "t_query = 'ticker='\n",
    "ticker = 'GOOG' #returns Google stock prices by default\n",
    "\n",
    "d_query = 'date='\n",
    "start_date = '2017-01-01'\n",
    "end_date = '2017-12-01'\n",
    "\n",
    "a_query = 'api_key='\n",
    "api_key = 'uMSAPoLS_hMKaPdsa9y2'\n",
    "\n",
    "full_query = stem + filetype_json + t_query + ticker + '&'+ d_query + start_date + '%2C' + end_date + '&' + a_query + api_key\n",
    "csv_query = stem + filetype_csv + t_query + ticker + '&'+ d_query + start_date + '%2C' + end_date + '&' + a_query + api_key\n",
    "\n",
    "small_csv_query = stem + filetype_csv + t_query + ticker + '&' + a_query + api_key\n",
    "\n",
    "print(full_query)\n",
    "source_query = 'https://www.quandl.com/api/v3/datatables/WIKI/PRICES?ticker=A&date=1999-11-18%2C1999-11-19%2C1999-11-22&api_key=uMSAPoLS_hMKaPdsa9y2'\n",
    "\n",
    "print(full_query == source_query)\n",
    "\n",
    "df = pd.read_json(full_query, orient='index')\n",
    "\n",
    "print(df.head())\n",
    "print(df.shape)"
   ]
  },
  {
   "cell_type": "markdown",
   "metadata": {},
   "source": [
    "# JSON issues"
   ]
  },
  {
   "cell_type": "code",
   "execution_count": null,
   "metadata": {
    "collapsed": true
   },
   "outputs": [],
   "source": []
  },
  {
   "cell_type": "code",
   "execution_count": 5,
   "metadata": {
    "scrolled": false
   },
   "outputs": [
    {
     "name": "stdout",
     "output_type": "stream",
     "text": [
      "{\"datatable\":{\"data\":[[\"GOOG\",\"2017-12-01\",1015.8,1022.49,1002.02,1010.17,1895786.0,0.0,1.0,1015.8,1022.49,1002.02,1010.17,1895786.0]],\"columns\":[{\"name\":\"ticker\",\"type\":\"String\"},{\"name\":\"date\",\"type\":\"Date\"},{\"name\":\"open\",\"type\":\"BigDecimal(34,12)\"},{\"name\":\"high\",\"type\":\"BigDecimal(34,12)\"},{\"name\":\"low\",\"type\":\"BigDecimal(34,12)\"},{\"name\":\"close\",\"type\":\"BigDecimal(34,12)\"},{\"name\":\"volume\",\"type\":\"BigDecimal(37,15)\"},{\"name\":\"ex-dividend\",\"type\":\"BigDecimal(42,20)\"},{\"name\":\"split_ratio\",\"type\":\"double\"},{\"name\":\"adj_open\",\"type\":\"BigDecimal(50,28)\"},{\"name\":\"adj_high\",\"type\":\"BigDecimal(50,28)\"},{\"name\":\"adj_low\",\"type\":\"BigDecimal(50,28)\"},{\"name\":\"adj_close\",\"type\":\"BigDecimal(50,28)\"},{\"name\":\"adj_volume\",\"type\":\"double\"}]},\"meta\":{\"next_cursor_id\":null}}\n"
     ]
    }
   ],
   "source": [
    "r = requests.get(full_query)\n",
    "\n",
    "print(r.text)"
   ]
  },
  {
   "cell_type": "code",
   "execution_count": 6,
   "metadata": {},
   "outputs": [
    {
     "name": "stdout",
     "output_type": "stream",
     "text": [
      "{u'meta': {u'next_cursor_id': None}, u'datatable': {u'data': [[u'GOOG', u'2017-12-01', 1015.8, 1022.49, 1002.02, 1010.17, 1895786.0, 0.0, 1.0, 1015.8, 1022.49, 1002.02, 1010.17, 1895786.0]], u'columns': [{u'type': u'String', u'name': u'ticker'}, {u'type': u'Date', u'name': u'date'}, {u'type': u'BigDecimal(34,12)', u'name': u'open'}, {u'type': u'BigDecimal(34,12)', u'name': u'high'}, {u'type': u'BigDecimal(34,12)', u'name': u'low'}, {u'type': u'BigDecimal(34,12)', u'name': u'close'}, {u'type': u'BigDecimal(37,15)', u'name': u'volume'}, {u'type': u'BigDecimal(42,20)', u'name': u'ex-dividend'}, {u'type': u'double', u'name': u'split_ratio'}, {u'type': u'BigDecimal(50,28)', u'name': u'adj_open'}, {u'type': u'BigDecimal(50,28)', u'name': u'adj_high'}, {u'type': u'BigDecimal(50,28)', u'name': u'adj_low'}, {u'type': u'BigDecimal(50,28)', u'name': u'adj_close'}, {u'type': u'double', u'name': u'adj_volume'}]}}\n"
     ]
    }
   ],
   "source": [
    "json_data = r.json()\n",
    "\n",
    "print(json_data)"
   ]
  },
  {
   "cell_type": "code",
   "execution_count": 7,
   "metadata": {
    "scrolled": true
   },
   "outputs": [
    {
     "name": "stdout",
     "output_type": "stream",
     "text": [
      "(u'meta: ', {u'next_cursor_id': None})\n",
      "(u'datatable: ', {u'data': [[u'GOOG', u'2017-12-01', 1015.8, 1022.49, 1002.02, 1010.17, 1895786.0, 0.0, 1.0, 1015.8, 1022.49, 1002.02, 1010.17, 1895786.0]], u'columns': [{u'type': u'String', u'name': u'ticker'}, {u'type': u'Date', u'name': u'date'}, {u'type': u'BigDecimal(34,12)', u'name': u'open'}, {u'type': u'BigDecimal(34,12)', u'name': u'high'}, {u'type': u'BigDecimal(34,12)', u'name': u'low'}, {u'type': u'BigDecimal(34,12)', u'name': u'close'}, {u'type': u'BigDecimal(37,15)', u'name': u'volume'}, {u'type': u'BigDecimal(42,20)', u'name': u'ex-dividend'}, {u'type': u'double', u'name': u'split_ratio'}, {u'type': u'BigDecimal(50,28)', u'name': u'adj_open'}, {u'type': u'BigDecimal(50,28)', u'name': u'adj_high'}, {u'type': u'BigDecimal(50,28)', u'name': u'adj_low'}, {u'type': u'BigDecimal(50,28)', u'name': u'adj_close'}, {u'type': u'double', u'name': u'adj_volume'}]})\n"
     ]
    }
   ],
   "source": [
    "for k in json_data.keys():\n",
    "    print(k + ': ', json_data[k])"
   ]
  },
  {
   "cell_type": "code",
   "execution_count": 8,
   "metadata": {},
   "outputs": [
    {
     "name": "stdout",
     "output_type": "stream",
     "text": [
      "Index([u'columns', u'data', u'next_cursor_id'], dtype='object')\n"
     ]
    }
   ],
   "source": [
    "print(df.columns)"
   ]
  },
  {
   "cell_type": "code",
   "execution_count": 9,
   "metadata": {},
   "outputs": [
    {
     "name": "stdout",
     "output_type": "stream",
     "text": [
      "                     open     high      low    close     volume  ex-dividend  \\\n",
      "ticker date                                                                    \n",
      "GOOG   2017-12-01  1015.8  1022.49  1002.02  1010.17  1895786.0          0.0   \n",
      "\n",
      "                   split_ratio  adj_open  adj_high  adj_low  adj_close  \\\n",
      "ticker date                                                              \n",
      "GOOG   2017-12-01          1.0    1015.8   1022.49  1002.02    1010.17   \n",
      "\n",
      "                   adj_volume  \n",
      "ticker date                    \n",
      "GOOG   2017-12-01   1895786.0  \n"
     ]
    }
   ],
   "source": [
    "df_csv = pd.read_csv(csv_query, index_col=['ticker', 'date'])\n",
    "\n",
    "print(df_csv.head())"
   ]
  }
 ],
 "metadata": {
  "kernelspec": {
   "display_name": "Python 2",
   "language": "python",
   "name": "python2"
  },
  "language_info": {
   "codemirror_mode": {
    "name": "ipython",
    "version": 2
   },
   "file_extension": ".py",
   "mimetype": "text/x-python",
   "name": "python",
   "nbconvert_exporter": "python",
   "pygments_lexer": "ipython2",
   "version": "2.7.13"
  }
 },
 "nbformat": 4,
 "nbformat_minor": 2
}
